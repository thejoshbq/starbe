{
 "cells": [
  {
   "cell_type": "code",
   "execution_count": 104,
   "metadata": {},
   "outputs": [],
   "source": [
    "import numpy as np\n",
    "import os\n",
    "from pathlib import Path\n",
    "from typing import Union, List\n",
    "from tqdm import tqdm"
   ]
  },
  {
   "cell_type": "code",
   "execution_count": 111,
   "metadata": {},
   "outputs": [
    {
     "name": "stderr",
     "output_type": "stream",
     "text": [
      "Loading files:   0%|          | 0/1 [00:00<?, ?file/s]/tmp/ipykernel_826154/3500667171.py:32: UserWarning: Reading `.npy` or `.npz` file required additional header parsing as it was created on Python 2. Save the file again to speed up loading and avoid this warning.\n",
      "  data = np.load(file, allow_pickle=True)\n",
      "Loading files: 100%|██████████| 1/1 [00:00<00:00, 223.49file/s]\n"
     ]
    },
    {
     "name": "stdout",
     "output_type": "stream",
     "text": [
      "Loaded file: sample_data/T2_PGa-T2_FOV1_LOW-D9_behavior_extractedsignals_raw.npy\n",
      "Test1 shape: (120, 25371)\n"
     ]
    },
    {
     "name": "stderr",
     "output_type": "stream",
     "text": [
      "Loading files: 100%|██████████| 3/3 [00:00<00:00, 302.18file/s]\n"
     ]
    },
    {
     "name": "stdout",
     "output_type": "stream",
     "text": [
      "Loaded file: sample_data/T2_IG-19_2P-HER_PFC-FOV2_LOW-D10_behavior-000_extractedsignals_raw.npy\n",
      "Loaded file: sample_data/T2_LCDD-PGa4_FOV1_LOW_D10_behavior-004_extractedsignals_raw.npy\n",
      "Loaded file: sample_data/T2_PGa-T2_FOV1_LOW-D9_behavior_extractedsignals_raw.npy\n",
      "Test2 shape: (280, 54000)\n"
     ]
    },
    {
     "name": "stderr",
     "output_type": "stream",
     "text": [
      "Loading files: 100%|██████████| 3/3 [00:00<00:00, 375.34file/s]"
     ]
    },
    {
     "name": "stdout",
     "output_type": "stream",
     "text": [
      "Loaded file: sample_data/T2_IG-19_2P-HER_PFC-FOV2_LOW-D10_behavior-000_extractedsignals_raw.npy\n",
      "Loaded file: sample_data/T2_LCDD-PGa4_FOV1_LOW_D10_behavior-004_extractedsignals_raw.npy\n",
      "Loaded file: sample_data/T2_PGa-T2_FOV1_LOW-D9_behavior_extractedsignals_raw.npy\n",
      "Test3 shape: (280, 54000)\n"
     ]
    },
    {
     "name": "stderr",
     "output_type": "stream",
     "text": [
      "\n"
     ]
    }
   ],
   "source": [
    "def read_signals(infile: Union[str, List[str]]) -> np.ndarray:\n",
    "    \"\"\"\n",
    "    Read signals from a .npy file, a list of .npy file paths, or a directory containing .npy files.\n",
    "    \n",
    "    Args:\n",
    "        infile (str | list[str]): Path to a .npy file, a list of .npy file paths, or a directory.\n",
    "        \n",
    "    Returns:\n",
    "        np.ndarray: The concatenated signals.\n",
    "    \"\"\"\n",
    "    file_paths = []\n",
    "    if isinstance(infile, str):\n",
    "        path = Path(infile)\n",
    "        if path.is_file() and path.suffix == '.npy':\n",
    "            file_paths = [path]\n",
    "        elif path.is_dir():\n",
    "            file_paths = sorted([f for f in path.glob(\"*.npy\") if f.is_file()])\n",
    "        else:\n",
    "            raise ValueError(f\"Input '{infile}' is neither a valid .npy file nor a directory.\")\n",
    "    elif isinstance(infile, list):\n",
    "        file_paths = [Path(f) for f in infile if Path(f).is_file() and Path(f).suffix == '.npy']\n",
    "        file_paths = sorted(file_paths)\n",
    "    else:\n",
    "        raise ValueError(\"infile must be a string or a list of strings.\")\n",
    "\n",
    "    if not file_paths:\n",
    "        raise ValueError(\"No valid .npy files found to process.\")\n",
    "\n",
    "    signals = []\n",
    "    for file in tqdm(file_paths, desc=\"Loading files\", unit=\"file\"):\n",
    "        try:\n",
    "            data = np.load(file, allow_pickle=True)\n",
    "            if data.shape[0] != 0:\n",
    "                if data.shape[0] == 1:\n",
    "                    data = np.squeeze(data, axis=0)\n",
    "                else:\n",
    "                    raise ValueError(f\"File {file} contains data with incompatible dimensions.\")\n",
    "            signals.append(data)\n",
    "            print(f\"Loaded file: {file}\")\n",
    "        except FileNotFoundError:\n",
    "            print(f\"Error: File {file} not found.\")\n",
    "        except ValueError as ve:\n",
    "            print(f\"Error: File {file} is not a valid numpy array: {ve}\")\n",
    "        except Exception as e:\n",
    "            print(f\"Error: Error loading file {file}: {e}\")\n",
    "\n",
    "    if not signals:\n",
    "        raise ValueError(\"No valid .npy files were loaded.\")\n",
    "\n",
    "    if len(signals) == 1:\n",
    "        return signals[0]\n",
    "\n",
    "    max_cols = max(arr.shape[1] for arr in signals)\n",
    "    total_rows = sum(arr.shape[0] for arr in signals)\n",
    "    output = np.empty((total_rows, max_cols), dtype=np.float64)\n",
    "\n",
    "    row_idx = 0\n",
    "    for arr in signals:\n",
    "        rows, cols = arr.shape\n",
    "        arr_padded = np.pad(arr, ((0, 0), (0, max_cols - cols)), mode='constant', constant_values=np.nan) if cols < max_cols else arr\n",
    "        output[row_idx:row_idx + rows, :] = arr_padded\n",
    "        row_idx += rows\n",
    "\n",
    "    return output\n",
    "    \n",
    "test1 = read_signals(\"sample_data/T2_PGa-T2_FOV1_LOW-D9_behavior_extractedsignals_raw.npy\")\n",
    "print(f\"Test1 shape: {test1.shape}\")\n",
    "\n",
    "test2 = read_signals([\"sample_data/T2_IG-19_2P-HER_PFC-FOV2_LOW-D10_behavior-000_extractedsignals_raw.npy\", \"sample_data/T2_LCDD-PGa4_FOV1_LOW_D10_behavior-004_extractedsignals_raw.npy\", \"sample_data/T2_PGa-T2_FOV1_LOW-D9_behavior_extractedsignals_raw.npy\"])\n",
    "print(f\"Test2 shape: {test2.shape}\")\n",
    "\n",
    "test3 = read_signals(\"sample_data\")\n",
    "print(f\"Test3 shape: {test3.shape}\")"
   ]
  },
  {
   "cell_type": "code",
   "execution_count": null,
   "metadata": {},
   "outputs": [],
   "source": []
  }
 ],
 "metadata": {
  "kernelspec": {
   "display_name": ".venv",
   "language": "python",
   "name": "python3"
  },
  "language_info": {
   "codemirror_mode": {
    "name": "ipython",
    "version": 3
   },
   "file_extension": ".py",
   "mimetype": "text/x-python",
   "name": "python",
   "nbconvert_exporter": "python",
   "pygments_lexer": "ipython3",
   "version": "3.12.3"
  }
 },
 "nbformat": 4,
 "nbformat_minor": 2
}
